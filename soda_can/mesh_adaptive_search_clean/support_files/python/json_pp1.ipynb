{
 "cells": [
  {
   "cell_type": "code",
   "execution_count": 17,
   "metadata": {},
   "outputs": [],
   "source": [
    "import requests\n",
    "import pandas as pd\n"
   ]
  },
  {
   "cell_type": "code",
   "execution_count": 18,
   "metadata": {},
   "outputs": [],
   "source": [
    "import json\n",
    "\n",
    "with open('featurescript_output.json') as json_file:\n",
    "    data = json.load(json_file)"
   ]
  },
  {
   "cell_type": "code",
   "execution_count": 19,
   "metadata": {},
   "outputs": [
    {
     "data": {
      "text/plain": [
       "{u'console': u'',\n",
       " u'libraryVersion': 1218,\n",
       " u'microversionSkew': False,\n",
       " u'notices': [],\n",
       " u'rejectMicroversionSkew': False,\n",
       " u'result': {u'message': {u'typeTag': u'',\n",
       "   u'unitToPower': [{u'key': u'METER', u'value': 2}],\n",
       "   u'value': 0.08490380244505345},\n",
       "  u'type': 1817,\n",
       "  u'typeName': u'BTFSValueWithUnits'},\n",
       " u'serializationVersion': u'1.1.18',\n",
       " u'sourceMicroversion': u'fff39f2c5a0828f7e9538755'}"
      ]
     },
     "execution_count": 19,
     "metadata": {},
     "output_type": "execute_result"
    }
   ],
   "source": [
    "data"
   ]
  },
  {
   "cell_type": "code",
   "execution_count": 57,
   "metadata": {},
   "outputs": [
    {
     "data": {
      "text/plain": [
       "\"{u'console': u'', u'libraryVersion': 1218, u'sourceMicroversion': u'fff39f2c5a0828f7e9538755', u'serializationVersion': u'1.1.18', u'rejectMicroversionSkew': False, u'notices': [], u'microversionSkew': False, u'result': {u'typeName': u'BTFSValueWithUnits', u'message': {u'typeTag': u'', u'value': 0.08490380244505345, u'unitToPower': [{u'value': 2, u'key': u'METER'}]}, u'type': 1817}}\""
      ]
     },
     "execution_count": 57,
     "metadata": {},
     "output_type": "execute_result"
    }
   ],
   "source": [
    "str(data)"
   ]
  },
  {
   "cell_type": "code",
   "execution_count": 61,
   "metadata": {},
   "outputs": [
    {
     "data": {
      "text/plain": [
       "['console',\n",
       " 'libraryVersion',\n",
       " 'sourceMicroversion',\n",
       " 'serializationVersion',\n",
       " 'rejectMicroversionSkew',\n",
       " 'notices',\n",
       " 'microversionSkew',\n",
       " 'result']"
      ]
     },
     "execution_count": 61,
     "metadata": {},
     "output_type": "execute_result"
    }
   ],
   "source": [
    "map(str, data)"
   ]
  },
  {
   "cell_type": "code",
   "execution_count": null,
   "metadata": {},
   "outputs": [],
   "source": []
  },
  {
   "cell_type": "code",
   "execution_count": 52,
   "metadata": {},
   "outputs": [
    {
     "data": {
      "text/plain": [
       "0.08490380244505345"
      ]
     },
     "execution_count": 52,
     "metadata": {},
     "output_type": "execute_result"
    }
   ],
   "source": [
    "data['result']['message']['value']"
   ]
  },
  {
   "cell_type": "code",
   "execution_count": null,
   "metadata": {},
   "outputs": [],
   "source": []
  },
  {
   "cell_type": "code",
   "execution_count": null,
   "metadata": {},
   "outputs": [],
   "source": []
  },
  {
   "cell_type": "code",
   "execution_count": null,
   "metadata": {},
   "outputs": [],
   "source": []
  },
  {
   "cell_type": "code",
   "execution_count": 90,
   "metadata": {},
   "outputs": [],
   "source": [
    "import json\n",
    "\n",
    "with open('featurescript_output.json') as json_file:\n",
    "    data = json.load(json_file)\n",
    "    \n",
    "value = data['result']['message']['value']\n",
    "\n",
    "f = open('data_new.txt', 'w')\n",
    "\n",
    "f.write(str(value))\n",
    "\n",
    "f.close()"
   ]
  },
  {
   "cell_type": "code",
   "execution_count": 87,
   "metadata": {},
   "outputs": [],
   "source": []
  },
  {
   "cell_type": "code",
   "execution_count": 88,
   "metadata": {},
   "outputs": [],
   "source": []
  },
  {
   "cell_type": "code",
   "execution_count": 89,
   "metadata": {},
   "outputs": [],
   "source": []
  },
  {
   "cell_type": "code",
   "execution_count": null,
   "metadata": {},
   "outputs": [],
   "source": []
  },
  {
   "cell_type": "code",
   "execution_count": null,
   "metadata": {},
   "outputs": [],
   "source": []
  },
  {
   "cell_type": "code",
   "execution_count": null,
   "metadata": {},
   "outputs": [],
   "source": []
  },
  {
   "cell_type": "code",
   "execution_count": 32,
   "metadata": {},
   "outputs": [
    {
     "data": {
      "text/plain": [
       "dict"
      ]
     },
     "execution_count": 32,
     "metadata": {},
     "output_type": "execute_result"
    }
   ],
   "source": [
    "type(data)"
   ]
  },
  {
   "cell_type": "code",
   "execution_count": null,
   "metadata": {},
   "outputs": [],
   "source": []
  },
  {
   "cell_type": "code",
   "execution_count": 56,
   "metadata": {},
   "outputs": [
    {
     "name": "stdout",
     "output_type": "stream",
     "text": [
      "{u'console': u'',\n",
      " u'libraryVersion': 1218,\n",
      " u'microversionSkew': False,\n",
      " u'notices': [],\n",
      " u'rejectMicroversionSkew': False,\n",
      " u'result': {u'message': {u'typeTag': u'',\n",
      "                          u'unitToPower': [{u'key': u'METER', u'value': 2}],\n",
      "                          u'value': 0.08490380244505345},\n",
      "             u'type': 1817,\n",
      "             u'typeName': u'BTFSValueWithUnits'},\n",
      " u'serializationVersion': u'1.1.18',\n",
      " u'sourceMicroversion': u'fff39f2c5a0828f7e9538755'}\n"
     ]
    }
   ],
   "source": [
    "import pprint\n",
    "pprint.pprint(data)"
   ]
  },
  {
   "cell_type": "code",
   "execution_count": null,
   "metadata": {},
   "outputs": [],
   "source": []
  },
  {
   "cell_type": "code",
   "execution_count": null,
   "metadata": {},
   "outputs": [],
   "source": []
  },
  {
   "cell_type": "code",
   "execution_count": null,
   "metadata": {},
   "outputs": [],
   "source": [
    "json = json.dumps(data)"
   ]
  },
  {
   "cell_type": "code",
   "execution_count": 40,
   "metadata": {},
   "outputs": [
    {
     "data": {
      "text/plain": [
       "'{\"console\": \"\", \"libraryVersion\": 1218, \"sourceMicroversion\": \"fff39f2c5a0828f7e9538755\", \"serializationVersion\": \"1.1.18\", \"rejectMicroversionSkew\": false, \"notices\": [], \"microversionSkew\": false, \"result\": {\"typeName\": \"BTFSValueWithUnits\", \"message\": {\"typeTag\": \"\", \"value\": 0.08490380244505345, \"unitToPower\": [{\"value\": 2, \"key\": \"METER\"}]}, \"type\": 1817}}'"
      ]
     },
     "execution_count": 40,
     "metadata": {},
     "output_type": "execute_result"
    }
   ],
   "source": [
    "json"
   ]
  },
  {
   "cell_type": "code",
   "execution_count": 49,
   "metadata": {},
   "outputs": [
    {
     "data": {
      "text/plain": [
       "str"
      ]
     },
     "execution_count": 49,
     "metadata": {},
     "output_type": "execute_result"
    }
   ],
   "source": [
    "type(json)"
   ]
  },
  {
   "cell_type": "code",
   "execution_count": null,
   "metadata": {},
   "outputs": [],
   "source": []
  }
 ],
 "metadata": {
  "kernelspec": {
   "display_name": "Python 2",
   "language": "python",
   "name": "python2"
  },
  "language_info": {
   "codemirror_mode": {
    "name": "ipython",
    "version": 2
   },
   "file_extension": ".py",
   "mimetype": "text/x-python",
   "name": "python",
   "nbconvert_exporter": "python",
   "pygments_lexer": "ipython2",
   "version": "2.7.16"
  }
 },
 "nbformat": 4,
 "nbformat_minor": 2
}
